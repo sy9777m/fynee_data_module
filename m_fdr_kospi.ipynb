{
 "cells": [
  {
   "cell_type": "code",
   "execution_count": 1,
   "metadata": {
    "collapsed": true
   },
   "outputs": [],
   "source": [
    "import FinanceDataReader as fdr"
   ]
  },
  {
   "cell_type": "code",
   "execution_count": 2,
   "outputs": [],
   "source": [
    "kospi_stock_list = fdr.StockListing('KOSPI')"
   ],
   "metadata": {
    "collapsed": false,
    "pycharm": {
     "name": "#%%\n"
    }
   }
  },
  {
   "cell_type": "code",
   "execution_count": 3,
   "outputs": [
    {
     "data": {
      "text/plain": "      Symbol Market     Name           Sector             Industry  \\\n1     095570  KOSPI   AJ네트웍스  산업용 기계 및 장비 임대업  렌탈(파렛트, OA장비, 건설장비)   \n2     006840  KOSPI    AK홀딩스           기타 금융업                 지주사업   \n6     027410  KOSPI      BGF           기타 금융업                 지주회사   \n7     282330  KOSPI   BGF리테일           종합 소매업              체인화 편의점   \n8     138930  KOSPI  BNK금융지주           기타 금융업               금융지주회사   \n...      ...    ...      ...              ...                  ...   \n2573  069260  KOSPI      휴켐스      기타 화학제품 제조업          화합물,화학제품 제조   \n2577  000540  KOSPI     흥국화재              보험업                 손해보험   \n2578  000547  KOSPI  흥국화재2우B              NaN                  NaN   \n2579  000545  KOSPI    흥국화재우              NaN                  NaN   \n2580  003280  KOSPI     흥아해운           해상 운송업       외항화물운송업(케미컬탱커)   \n\n     ListingDate SettleMonth     Representative  \\\n1     2015-08-21         12월                이현우   \n2     1999-08-11         12월  채형석, 이석주(각자 대표이사)   \n6     2014-05-19         12월                홍정국   \n7     2017-12-08         12월                이건준   \n8     2011-03-30         12월                김지완   \n...          ...         ...                ...   \n2573  2002-10-07         12월                신진용   \n2577  1974-12-05         12월                권중원   \n2578         NaT         NaN                NaN   \n2579         NaT         NaN                NaN   \n2580  1976-06-29         12월                이환구   \n\n                           HomePage Region  \n1            http://www.ajnet.co.kr  서울특별시  \n2     http://www.aekyunggroup.co.kr  서울특별시  \n6              http://www.bgf.co.kr  서울특별시  \n7          http://www.bgfretail.com  서울특별시  \n8              http://www.bnkfg.com  부산광역시  \n...                             ...    ...  \n2573         http://www.huchems.com  서울특별시  \n2577     http://www.insurance.co.kr  서울특별시  \n2578                            NaN    NaN  \n2579                            NaN    NaN  \n2580         http://www.heung-a.com  서울특별시  \n\n[996 rows x 10 columns]",
      "text/html": "<div>\n<style scoped>\n    .dataframe tbody tr th:only-of-type {\n        vertical-align: middle;\n    }\n\n    .dataframe tbody tr th {\n        vertical-align: top;\n    }\n\n    .dataframe thead th {\n        text-align: right;\n    }\n</style>\n<table border=\"1\" class=\"dataframe\">\n  <thead>\n    <tr style=\"text-align: right;\">\n      <th></th>\n      <th>Symbol</th>\n      <th>Market</th>\n      <th>Name</th>\n      <th>Sector</th>\n      <th>Industry</th>\n      <th>ListingDate</th>\n      <th>SettleMonth</th>\n      <th>Representative</th>\n      <th>HomePage</th>\n      <th>Region</th>\n    </tr>\n  </thead>\n  <tbody>\n    <tr>\n      <th>1</th>\n      <td>095570</td>\n      <td>KOSPI</td>\n      <td>AJ네트웍스</td>\n      <td>산업용 기계 및 장비 임대업</td>\n      <td>렌탈(파렛트, OA장비, 건설장비)</td>\n      <td>2015-08-21</td>\n      <td>12월</td>\n      <td>이현우</td>\n      <td>http://www.ajnet.co.kr</td>\n      <td>서울특별시</td>\n    </tr>\n    <tr>\n      <th>2</th>\n      <td>006840</td>\n      <td>KOSPI</td>\n      <td>AK홀딩스</td>\n      <td>기타 금융업</td>\n      <td>지주사업</td>\n      <td>1999-08-11</td>\n      <td>12월</td>\n      <td>채형석, 이석주(각자 대표이사)</td>\n      <td>http://www.aekyunggroup.co.kr</td>\n      <td>서울특별시</td>\n    </tr>\n    <tr>\n      <th>6</th>\n      <td>027410</td>\n      <td>KOSPI</td>\n      <td>BGF</td>\n      <td>기타 금융업</td>\n      <td>지주회사</td>\n      <td>2014-05-19</td>\n      <td>12월</td>\n      <td>홍정국</td>\n      <td>http://www.bgf.co.kr</td>\n      <td>서울특별시</td>\n    </tr>\n    <tr>\n      <th>7</th>\n      <td>282330</td>\n      <td>KOSPI</td>\n      <td>BGF리테일</td>\n      <td>종합 소매업</td>\n      <td>체인화 편의점</td>\n      <td>2017-12-08</td>\n      <td>12월</td>\n      <td>이건준</td>\n      <td>http://www.bgfretail.com</td>\n      <td>서울특별시</td>\n    </tr>\n    <tr>\n      <th>8</th>\n      <td>138930</td>\n      <td>KOSPI</td>\n      <td>BNK금융지주</td>\n      <td>기타 금융업</td>\n      <td>금융지주회사</td>\n      <td>2011-03-30</td>\n      <td>12월</td>\n      <td>김지완</td>\n      <td>http://www.bnkfg.com</td>\n      <td>부산광역시</td>\n    </tr>\n    <tr>\n      <th>...</th>\n      <td>...</td>\n      <td>...</td>\n      <td>...</td>\n      <td>...</td>\n      <td>...</td>\n      <td>...</td>\n      <td>...</td>\n      <td>...</td>\n      <td>...</td>\n      <td>...</td>\n    </tr>\n    <tr>\n      <th>2573</th>\n      <td>069260</td>\n      <td>KOSPI</td>\n      <td>휴켐스</td>\n      <td>기타 화학제품 제조업</td>\n      <td>화합물,화학제품 제조</td>\n      <td>2002-10-07</td>\n      <td>12월</td>\n      <td>신진용</td>\n      <td>http://www.huchems.com</td>\n      <td>서울특별시</td>\n    </tr>\n    <tr>\n      <th>2577</th>\n      <td>000540</td>\n      <td>KOSPI</td>\n      <td>흥국화재</td>\n      <td>보험업</td>\n      <td>손해보험</td>\n      <td>1974-12-05</td>\n      <td>12월</td>\n      <td>권중원</td>\n      <td>http://www.insurance.co.kr</td>\n      <td>서울특별시</td>\n    </tr>\n    <tr>\n      <th>2578</th>\n      <td>000547</td>\n      <td>KOSPI</td>\n      <td>흥국화재2우B</td>\n      <td>NaN</td>\n      <td>NaN</td>\n      <td>NaT</td>\n      <td>NaN</td>\n      <td>NaN</td>\n      <td>NaN</td>\n      <td>NaN</td>\n    </tr>\n    <tr>\n      <th>2579</th>\n      <td>000545</td>\n      <td>KOSPI</td>\n      <td>흥국화재우</td>\n      <td>NaN</td>\n      <td>NaN</td>\n      <td>NaT</td>\n      <td>NaN</td>\n      <td>NaN</td>\n      <td>NaN</td>\n      <td>NaN</td>\n    </tr>\n    <tr>\n      <th>2580</th>\n      <td>003280</td>\n      <td>KOSPI</td>\n      <td>흥아해운</td>\n      <td>해상 운송업</td>\n      <td>외항화물운송업(케미컬탱커)</td>\n      <td>1976-06-29</td>\n      <td>12월</td>\n      <td>이환구</td>\n      <td>http://www.heung-a.com</td>\n      <td>서울특별시</td>\n    </tr>\n  </tbody>\n</table>\n<p>996 rows × 10 columns</p>\n</div>"
     },
     "execution_count": 3,
     "metadata": {},
     "output_type": "execute_result"
    }
   ],
   "source": [
    "kospi_stock_list"
   ],
   "metadata": {
    "collapsed": false,
    "pycharm": {
     "name": "#%%\n"
    }
   }
  },
  {
   "cell_type": "code",
   "execution_count": null,
   "outputs": [],
   "source": [],
   "metadata": {
    "collapsed": false,
    "pycharm": {
     "name": "#%%\n"
    }
   }
  }
 ],
 "metadata": {
  "kernelspec": {
   "display_name": "Python 3",
   "language": "python",
   "name": "python3"
  },
  "language_info": {
   "codemirror_mode": {
    "name": "ipython",
    "version": 2
   },
   "file_extension": ".py",
   "mimetype": "text/x-python",
   "name": "python",
   "nbconvert_exporter": "python",
   "pygments_lexer": "ipython2",
   "version": "2.7.6"
  }
 },
 "nbformat": 4,
 "nbformat_minor": 0
}